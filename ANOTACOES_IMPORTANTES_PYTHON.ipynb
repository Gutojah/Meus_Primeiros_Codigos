{
  "nbformat": 4,
  "nbformat_minor": 0,
  "metadata": {
    "colab": {
      "provenance": [],
      "authorship_tag": "ABX9TyNPUErPqrJ/8asbvwwpxfPC",
      "include_colab_link": true
    },
    "kernelspec": {
      "name": "python3",
      "display_name": "Python 3"
    },
    "language_info": {
      "name": "python"
    }
  },
  "cells": [
    {
      "cell_type": "markdown",
      "metadata": {
        "id": "view-in-github",
        "colab_type": "text"
      },
      "source": [
        "<a href=\"https://colab.research.google.com/github/Gutojah/Meus_Primeiros_Codigos/blob/main/ANOTACOES_IMPORTANTES_PYTHON.ipynb\" target=\"_parent\"><img src=\"https://colab.research.google.com/assets/colab-badge.svg\" alt=\"Open In Colab\"/></a>"
      ]
    },
    {
      "cell_type": "code",
      "execution_count": null,
      "metadata": {
        "id": "BGTNa2AMzXsL"
      },
      "outputs": [],
      "source": [
        "#ORDEM DE PRECEDENCIA ENTRE OS OPERADORES:\n",
        "'''\n",
        "1 ()\n",
        "2 **\n",
        "3 * / //  e  % (Entre eles, o qual aparecer primeiro)\n",
        "4 + e - (Entre eles, o qual aparecer primeiro)\n",
        "'''"
      ]
    },
    {
      "cell_type": "code",
      "source": [
        "#METODO .format()\n",
        "'''\n",
        "O Metodo \".format(variavel, ou, variaveis)\" substitui as {} (ou{ID}) no meio de uma declaracao pela variavel ou variaveis entre ().\n",
        "Quando ha so uma variavel, nao ha a necessidade de numerar ID.\n",
        "Quando sao mais variaveis: \n",
        "Caso as {} estejam vazias, a substituicao respeitara a ordem logica das IDs entre ()\n",
        "Ou ainda pode ser indicado a ID da variavel pretendida {0}, {1}, {2}... (0, 1, 2)\n",
        "'''\n",
        "#EXEMPLOS:\n",
        "x = 'exemplo'\n",
        "y = 'outro exemplo'\n",
        "z = 123\n",
        "w = 456\n",
        "print('Isso eh apenas um {}' .format(x))\n",
        "print('Isso eh um {} e esse eh {}' .format(x ,y))\n",
        "print('Esse {0} poderia ser demonstrado como este {1}' .format(x,y,z,w))\n",
        "print('Da mesma forma que esse {0} mostra que {3} vem apos {2}, mas continua sendo apenas {1}'.format(x,y,z,w))"
      ],
      "metadata": {
        "id": "PQ1uJfN8zz-5"
      },
      "execution_count": null,
      "outputs": []
    },
    {
      "cell_type": "code",
      "source": [
        "#Alinhando input\n",
        "nome = input('Qual o seu nome? ')\n",
        "print('1 Prazer em lhe conhecer {}!!!' .format(nome)) #Nao deixa nenhum espaco\n",
        "print('2 Prazer em lhe conhecer {:15}!!!' .format(nome)) #Faz com que o input seja distribuido nos caracteres desejados (representado pelo numero) alinhando a esquerda (padrao)\n",
        "print('3 Prazer em lhe conhecer {:5}!!!' .format(nome)) #Se o numero desejado for menor que o numero de caracteres inseridos, ignora o mesmo\n",
        "print('4 Prazer em lhe conhecer {:<15}!!!' .format(nome)) #Alinha a esquerda\n",
        "print('5 Prazer em lhe conhecer {:>15}!!!' .format(nome)) #Alinha a direita\n",
        "print('6 Prazer em lhe conhecer {:^15}!!!' .format(nome)) #Centraliza\n",
        "print('7 Prazer em lhe conhecer {:=^20}!!!' .format(nome))#Centraliza e completa os espacos em branco com o caracter desejado\n",
        "print('8 Prazer em lhe conhecer {:*^30}!!!' .format(nome))#Centraliza e completa os espacos em branco com o caracter desejado\n",
        "print('8 Prazer em lhe conhecer {:X>30}!!!' .format(nome))#Alinha a direita e completa os espacos em branco com o caracter desejado"
      ],
      "metadata": {
        "id": "rwqdW5cA1JnZ"
      },
      "execution_count": null,
      "outputs": []
    },
    {
      "cell_type": "code",
      "source": [
        "#Manipulando a funcao print \n",
        "#Se quisermos fazer quebra de linhas, usamos \"\\n\" \n",
        "print ('Era uma casa muito engracada, nao tinha teto, nao tinha nada')\n",
        "print ('Era uma casa \\n muito engracada,\\nnao tinha teto, \\n nao tinha nada!')\n",
        "#Se quisermos forcar a nao quebrar a linha utilizamos \"end=' '\" ou colocar algum indicador de onde seria um nova linha com \"end'!!!'\"\n",
        "#print ('Era uma casa muito engracada e {}, nao tinha teto, nao tinha nada' * 15, end '>>>') #Talvez so funcione no pc\n",
        "\n",
        "\n"
      ],
      "metadata": {
        "id": "ZX6ZjZ9Y-mRB"
      },
      "execution_count": null,
      "outputs": []
    },
    {
      "cell_type": "code",
      "source": [
        "#Alinhando input\n",
        "nome = input('Qual o seu nome?')\n",
        "print('Prazer em lhe conhecer {}!!!' format(nome))\n",
        "print('Prazer em lhe conhecer {:15}!!!' format(nome))\n",
        "print('Prazer em lhe conhecer {:<15}!!!' format(nome))\n",
        "print('Prazer em lhe conhecer {:>15}!!!' format(nome))\n",
        "print('Prazer em lhe conhecer {:^15}!!!' format(nome))\n",
        "print('Prazer em lhe conhecer {:=^20}!!!' format(nome))\n",
        "print('Prazer em lhe conhecer {:*^30}!!!' format(nome))"
      ],
      "metadata": {
        "id": "89gh9rnEE-sK"
      },
      "execution_count": null,
      "outputs": []
    },
    {
      "cell_type": "code",
      "source": [
        "# Podemos definir quantas casas decimais um resultado apresentara com a funcao .format, utilizando {:.3f}\n",
        "n1 = 37956\n",
        "n2 = 523\n",
        "total = n1/ n2\n",
        "print('A divisao entre {} e {} eh: {} ' .format(n1,n2, total))\n",
        "print('A divisao entre {} e {} eh: {:.3f} ' .format(n1,n2, total))\n",
        "print('A divisao entre {} e {} eh: {:.2f} ' .format(n1,n2, total))\n",
        "\n",
        "\n"
      ],
      "metadata": {
        "id": "yZ3aGmskC7Zv",
        "colab": {
          "base_uri": "https://localhost:8080/"
        },
        "outputId": "832691cb-1901-4918-dfb3-530c885ebd65"
      },
      "execution_count": null,
      "outputs": [
        {
          "output_type": "stream",
          "name": "stdout",
          "text": [
            "A divisao entre 37956 e 523 eh: 72.5736137667304 \n",
            "A divisao entre 37956 e 523 eh: 72.574 \n",
            "A divisao entre 37956 e 523 eh: 72.57 \n"
          ]
        }
      ]
    },
    {
      "cell_type": "code",
      "source": [],
      "metadata": {
        "id": "hRcGNpoEjmBN"
      },
      "execution_count": null,
      "outputs": []
    }
  ]
}