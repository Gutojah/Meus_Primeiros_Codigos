{
  "nbformat": 4,
  "nbformat_minor": 0,
  "metadata": {
    "colab": {
      "provenance": [],
      "authorship_tag": "ABX9TyO3HbSfw1vuajAC0E+G58Fo",
      "include_colab_link": true
    },
    "kernelspec": {
      "name": "python3",
      "display_name": "Python 3"
    },
    "language_info": {
      "name": "python"
    }
  },
  "cells": [
    {
      "cell_type": "markdown",
      "metadata": {
        "id": "view-in-github",
        "colab_type": "text"
      },
      "source": [
        "<a href=\"https://colab.research.google.com/github/Gutojah/Meus_Primeiros_Codigos/blob/main/Curso_de_Python.ipynb\" target=\"_parent\"><img src=\"https://colab.research.google.com/assets/colab-badge.svg\" alt=\"Open In Colab\"/></a>"
      ]
    },
    {
      "cell_type": "markdown",
      "source": [
        "Curso de Python"
      ],
      "metadata": {
        "id": "ED-0eE7OKm55"
      }
    },
    {
      "cell_type": "code",
      "execution_count": 14,
      "metadata": {
        "id": "PFy8333lKkvC",
        "colab": {
          "base_uri": "https://localhost:8080/"
        },
        "outputId": "305fd260-c09c-47c9-9447-693ce3963ab0"
      },
      "outputs": [
        {
          "output_type": "stream",
          "name": "stdout",
          "text": [
            "Qual o seu nome? Joao\n",
            "Ola Joao, Prazer em lhe conhecer\n",
            " qual a sua idade? 55\n",
            "Tudo isso? Quem lhe ve pensa que tens muito mais que 55 anos.\n"
          ]
        }
      ],
      "source": [
        "#Interecao e multiplas respostas\n",
        "import random\n",
        "\n",
        "nome = input('Qual o seu nome? ')\n",
        "print('Ola',nome+', Prazer em lhe conhecer')\n",
        "idade = input(' qual a sua idade? ')\n",
        "respostas = random.choice ([ \n",
        "    'Tudo isso? Quem lhe ve pensa que tens muito mais que',\n",
        "    'So isso? Olhando para voce, diria que tens muito mais que',\n",
        "    'Bem me parecia que tinhas',  \n",
        "    'Uau! Aparentas ter muito menos que',\n",
        "    'Serio? Me desculpe pela indelicadeza, mas aparentas ter muito mais que',\n",
        "    'Meus parabens, aparentas ter muito menos que',\n",
        "    'Em cada perna? Posso ser uma maquina, mas nao precisar mentir pra mim, sei que tens muito mais que',\n",
        "    'Se voce voce realmente tiver tudo isso, tens que mostrar aos outros os teus segredos, pois estas muito bem para quem tem'\n",
        "\n",
        "\n",
        "])\n",
        "\n",
        "print(respostas, idade, 'anos.')"
      ]
    },
    {
      "cell_type": "code",
      "source": [],
      "metadata": {
        "id": "jLln0BSOKrqQ"
      },
      "execution_count": null,
      "outputs": []
    }
  ]
}