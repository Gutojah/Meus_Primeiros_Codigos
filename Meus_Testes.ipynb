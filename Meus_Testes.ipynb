{
  "nbformat": 4,
  "nbformat_minor": 0,
  "metadata": {
    "colab": {
      "provenance": [],
      "authorship_tag": "ABX9TyMhIYKRqcLZa9fArksQnz59",
      "include_colab_link": true
    },
    "kernelspec": {
      "name": "python3",
      "display_name": "Python 3"
    },
    "language_info": {
      "name": "python"
    }
  },
  "cells": [
    {
      "cell_type": "markdown",
      "metadata": {
        "id": "view-in-github",
        "colab_type": "text"
      },
      "source": [
        "<a href=\"https://colab.research.google.com/github/Gutojah/Meus_Primeiros_Codigos/blob/main/Meus_Testes.ipynb\" target=\"_parent\"><img src=\"https://colab.research.google.com/assets/colab-badge.svg\" alt=\"Open In Colab\"/></a>"
      ]
    },
    {
      "cell_type": "code",
      "source": [
        "#Encontrando o fatorial\n",
        "numero = int(input(\"Quer calcular o fatorial de qual numero? \"))\n",
        "if numero > 0 :\n",
        "  fatorial = 1\n",
        "  for X in range(1, (numero+1)):\n",
        "    fatorial *= X\n",
        "  print('O fatorial de', numero, 'eh',fatorial)\n",
        "\n",
        "else:\n",
        "  print('So e possivel calcular o fatorial de numeros inteiros e maiores que 0') \n",
        "\n",
        "\n",
        "\n",
        "#print('O fatorial de', num, 'eh',total)"
      ],
      "metadata": {
        "colab": {
          "base_uri": "https://localhost:8080/"
        },
        "id": "jwm3-z1Itz-9",
        "outputId": "7b895ac8-2909-40d2-adb8-1337ddf86700"
      },
      "execution_count": null,
      "outputs": [
        {
          "output_type": "stream",
          "name": "stdout",
          "text": [
            "Quer calcular o Fatorial de qual numero? -5\n",
            "So e possivel calcular o fatorial de numeros inteiros e maiores que 0\n"
          ]
        }
      ]
    },
    {
      "cell_type": "code",
      "execution_count": null,
      "metadata": {
        "id": "YgPpmai-LmPC"
      },
      "outputs": [],
      "source": [
        "#Adivinhando um numero aleatorio\n",
        "import random #importa a funcao \"random\" para gerar numero aleatorios\n",
        "numero_aleatorio = random.randint(0,10) #gera um numero aleatorio entre 0 e 10\n",
        "#numero_aleatorio = 5 #para testar com um numero estipulado previamente\n",
        "\n",
        "chute = int(input('Tente acertar o numero secreto ')) #para receber o \"chute\"\n",
        "\n",
        "while not chute == numero_aleatorio:#Faz com que a pessoa continue tentando ate acertar o numero secreto (le-se, enquanto NAO for igual)\n",
        "#while chute!=numero_aleatorio: #Faz com que a pessoa continue tentando ate acertar o numero secreto (le-se, enquanto for diferente)\n",
        "  if chute == numero_aleatorio: #a partir desse \"if\" tem que ser indentado, pois assim faz com que as condicoes sejam executadas dentro do laco \"while\" acima\n",
        "    print('Parabens, voce acertou, o numero secreto que e:',numero_aleatorio) #Se a pessoa acertar de primeira, mostra essa msgm\n",
        "  elif chute > numero_aleatorio and chute < 11:\n",
        "    print('O numero secreto eh menor que', chute)# se o valor do chute for maior que o numero aleatorio gerado, mostra essa msgm\n",
        "    chute = int(input('Tente novamente! ')) #solicita um novo chute, sem alterar o numero aleatorio\n",
        "  elif chute < numero_aleatorio:\n",
        "    print('o numero secreto eh maior que', chute)\n",
        "    chute = int(input('Tente novamente! '))\n",
        "  else:\n",
        "    print('o numero surpresa tem que ser um numero entre 0 e 10') #se o valor chutado for maio que 10\n",
        "    chute = int(input('Tente novamente! '))\n",
        "if chute == numero_aleatorio: #Se nao colocar esse ultimo \"if\", sem identacao, quando a pessoa acerta, nao aparece nenhuma mensagem final\n",
        "  print('Parabens, voce acertou, o numero secreto que e:',numero_aleatorio)"
      ]
    },
    {
      "cell_type": "code",
      "source": [
        "#Lacos de repeticao e Listas\n",
        "for numero in range(1,20): #o for cria o laco de repeticao, o \"in\" indica o local, \"range\" cria uma lista com todos os numero entre o primeiro (incluindo este) e o ultimo(Excluindo este)\n",
        "  print(numero) #gera todos os intens na lista, exceto o ultimo \n",
        "\n",
        "  "
      ],
      "metadata": {
        "id": "NC7EiAuCLBtD"
      },
      "execution_count": null,
      "outputs": []
    },
    {
      "cell_type": "code",
      "source": [
        "for numero in range(1,20, 2): #nesse caso, o terceiro numero indica o intervalo na lista\n",
        "  print(numero) #gera os itens na lista, exceto o ultimo "
      ],
      "metadata": {
        "id": "JnTzEpp1QfGe"
      },
      "execution_count": null,
      "outputs": []
    },
    {
      "cell_type": "code",
      "source": [
        "#Lacos de repeticao\n",
        "for palavra in range(1,5): \n",
        "  print ('Teste') #nesse caso vai repetir o print 4 vezes, pois vai repetir a qntidade de itens que houver na lista (no caso, 1,2,3,4, pois o 5 nao entra na lista)"
      ],
      "metadata": {
        "id": "ZU5Y5Ivak6rU"
      },
      "execution_count": null,
      "outputs": []
    },
    {
      "cell_type": "code",
      "source": [
        "# LISTAS [] (colecoes)\n",
        "nomes=['joao', 'maria', 'jose', 'pedro'] #cria uma lista com os itens em questao (se forem palavras nao pode esquecer \"\"), geralmente o nome da lista eh uma palavra no plural\n",
        "for nome in nomes: #nome nesse caso eh uma variavel \"temporaria\", geralmente usa-se o singular do nome da lista, mas poderia usar qlqr nome para a variavel\n",
        "  print(nome) #exibe todos os itens da lista"
      ],
      "metadata": {
        "id": "dyeSl-MRRle6"
      },
      "execution_count": null,
      "outputs": []
    },
    {
      "cell_type": "code",
      "source": [
        "#valor maximo\n",
        "#Loop de valor inicial a um numero maximo\n",
        "valor_maximo=int(input('Digite o valor maximo ')) #solicita o valor maximo\n",
        "valor_inicial = 0 #indica o valor do primeiro numero, nesse caso 0, mas pode ser qlqr um, inclusive input()\n",
        "for numero in range(valor_inicial, valor_maximo+1): #para sair ate o valor digitado, tem que adicionar +1, caso contrario vai ate um numero anterior\n",
        "  print (numero)"
      ],
      "metadata": {
        "id": "9EcVCH55WE9g"
      },
      "execution_count": null,
      "outputs": []
    },
    {
      "cell_type": "code",
      "source": [
        "# Listas\n",
        "'''\n",
        "Para naum precisar criar inumeras variaveis com dados de um mesmo grupo de itens, podemos armazenar esses dados em uma unica lista.\n",
        "Exemplo: Se quisermos criar variaveis com precos para varios itens, ao inves de fazermos assim:\n",
        "preco1 = 20\n",
        "preco2 = 50\n",
        "preco3 = 75\n",
        "Podemos criar uma unica variavel e indicar os valores entre [], assim a variavel se torna uma lista.\n",
        "Exemplo:\n",
        "'''\n",
        "precos = [20,50,75] # Cria a lista \"precos\"\n",
        "print (precos)\n",
        "\n",
        "'''\n",
        "cada um dos itens dentro da lista recebe uma \"ID\", que eh sua posicao sequencial iniciando pelo 0, e para ser acessadas, basta indicarmos a \"ID\" que queremos.\n",
        "Exemplo:\n",
        "'''\n",
        "print(precos [0])\n",
        "print(precos [1])\n",
        "print(precos [2])\n",
        "\n",
        "'''\n",
        "Podemos inclusive, realizar operacoes utilizando os \"IDs\" \n",
        "Exemplo:\n",
        "'''\n",
        "print(precos[0]+precos[1]+precos[2]) #nesse caso todos estao na mesma lista \"precos\", mas poderia ser feito com itens em listas diferentes"
      ],
      "metadata": {
        "colab": {
          "base_uri": "https://localhost:8080/"
        },
        "id": "8dUWyaE3YAjc",
        "outputId": "eb6acbb9-df7e-4f69-df75-883000d91a99"
      },
      "execution_count": null,
      "outputs": [
        {
          "output_type": "stream",
          "name": "stdout",
          "text": [
            "[20, 50, 75]\n",
            "20\n",
            "50\n",
            "75\n",
            "145\n"
          ]
        }
      ]
    },
    {
      "cell_type": "code",
      "source": [
        "#Descobrindo os IDs dos valores nas listas:\n",
        "precos = [20,50,75] # Cria a lista \"precos\"\n",
        "print(precos.index(50)) #Indica qual o ID do item de valor \"50\" na lista.\n",
        "\n",
        "'''\n",
        "O mesmo pode ser realizado com palavras.\n",
        "'''\n",
        "nomes=['joao', 'maria', 'jose', 'pedro']\n",
        "print(nomes.index('joao'))"
      ],
      "metadata": {
        "id": "VamYNKXwZOZv"
      },
      "execution_count": null,
      "outputs": []
    },
    {
      "cell_type": "code",
      "source": [
        "#Listas variadas\n",
        "'''\n",
        "Os dados contidos nas listas podem ser variados entre si.\n",
        "Exemplo:\n",
        "'''\n",
        "diversos = [15,'joao',True, 0.15, 100, 'maria', False] #No caso de operacoes entre listas, deve-se prestar atencao nos tipos de dados\n",
        "print (diversos[3])"
      ],
      "metadata": {
        "colab": {
          "base_uri": "https://localhost:8080/"
        },
        "id": "cuQZepardDL6",
        "outputId": "23ee6f2d-5254-4a61-88f3-1a9dee2cc34b"
      },
      "execution_count": null,
      "outputs": [
        {
          "output_type": "stream",
          "name": "stdout",
          "text": [
            "0.15\n"
          ]
        }
      ]
    },
    {
      "cell_type": "code",
      "source": [
        "#Somando todos os itens de uma mesma lista\n",
        "idades = [15,46,75,34,23] #cria uma lista com esses valores\n",
        "total=0 #deve ser iniciado em zero para ser acrescentado a soma dos valores\n",
        "\n",
        "for idade in idades: #cria um laco que ira realizar a operacao abaixo do mesmo para todos os intens contidos na lista\n",
        "  total += idade #ou poderia ser: total = total + idade. \n",
        "print(total) #Exibe valor final"
      ],
      "metadata": {
        "id": "dn9dM5pZdGN4"
      },
      "execution_count": null,
      "outputs": []
    },
    {
      "cell_type": "code",
      "source": [
        "#funcoes e operacoes com listas: (.append e .insert)\n",
        "lista1 = [1,2,3,4,5]\n",
        "print(lista1)\n",
        "\n",
        "lista2 = ['a', 'b', 'c', 'd', 'f']\n",
        "print(lista2)\n",
        "\n",
        "lista1.append(6)# A funcao \".append\" adiciona um item ao final da lista = nome_da_lista.append(Item a ser inserido)\n",
        "print(lista1)\n",
        "\n",
        "\n",
        "lista2.insert(4, 'e') #A funca \".insert\" adiciona um item em um local especifico dentro da lista = nome_da_lista.insert(ID pretendido, Item a ser inserido)\n",
        "print (lista2)\n",
        "\n",
        "lista1.append(lista2) #Eh possivel tambem inserir uma lista dentro de outra, no final da lista\n",
        "print (lista1)\n",
        "\n",
        "lista2.insert(2, lista1) # Ou no local ID que se desejar\n",
        "print (lista2)\n",
        "\n",
        "#OBSERVACAO: Ambas as funcoes (.append e .insert) permitem que seja adicionado apenas um elemento por vez em cada lista (mesmo que esse elemento seja outra lista)\n"
      ],
      "metadata": {
        "id": "44ntiyrpab_a"
      },
      "execution_count": null,
      "outputs": []
    },
    {
      "cell_type": "code",
      "source": [
        "#funcoes e operacoes com listas: (.extend)\n",
        "lista1 = [1,2,3,4,5]\n",
        "print(lista1)\n",
        "\n",
        "lista2 = ['a', 'b', 'c', 'd', 'f']\n",
        "print(lista2)\n",
        "\n",
        "lista1.extend([6,7,8,9,10]) # A funcao \".extend\" adiciona inumeros itens ao final de uma lista. Nao esquecer dos () e dos []. = nome_da_lista.extend([itens a serem inseridos separados por virgula])\n",
        "print(lista1)\n",
        "\n",
        "lista1.extend(lista2) # Pode se adicionar uma lista dentro de outra,\n",
        "print (lista1) # Neste caso, se nao forem utilizados os [], os itens sera adicionados sem os mesmos.\n",
        "\n"
      ],
      "metadata": {
        "colab": {
          "base_uri": "https://localhost:8080/"
        },
        "id": "qMjD8HSieUT-",
        "outputId": "e4fbd4b3-5dfd-4383-96b0-b99720403671"
      },
      "execution_count": null,
      "outputs": [
        {
          "output_type": "stream",
          "name": "stdout",
          "text": [
            "[1, 2, 3, 4, 5]\n",
            "['a', 'b', 'c', 'd', 'f']\n",
            "[1, 2, 3, 4, 5, 6, 7, 8, 9, 10]\n",
            "[1, 2, 3, 4, 5, 6, 7, 8, 9, 10, 'a', 'b', 'c', 'd', 'f']\n"
          ]
        }
      ]
    }
  ]
}