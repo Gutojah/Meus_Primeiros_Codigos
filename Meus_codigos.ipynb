{
  "nbformat": 4,
  "nbformat_minor": 0,
  "metadata": {
    "colab": {
      "provenance": [],
      "authorship_tag": "ABX9TyNs1DEy1XMn3h+NSr2IjB4z",
      "include_colab_link": true
    },
    "kernelspec": {
      "name": "python3",
      "display_name": "Python 3"
    },
    "language_info": {
      "name": "python"
    }
  },
  "cells": [
    {
      "cell_type": "markdown",
      "metadata": {
        "id": "view-in-github",
        "colab_type": "text"
      },
      "source": [
        "<a href=\"https://colab.research.google.com/github/Gutojah/Meus_Primeiros_Codigos/blob/main/Meus_codigos.ipynb\" target=\"_parent\"><img src=\"https://colab.research.google.com/assets/colab-badge.svg\" alt=\"Open In Colab\"/></a>"
      ]
    },
    {
      "cell_type": "code",
      "execution_count": null,
      "metadata": {
        "id": "YgPpmai-LmPC"
      },
      "outputs": [],
      "source": [
        "#Adivinhando um numero aleatorio (Desenvolvido por mim)\n",
        "import random #importa a funcao \"random\" para gerar numero aleatorios\n",
        "numero_aleatorio = random.randint(1,10) #gera um numero aleatorio, neste caso, entre de 1 a 10\n",
        "#numero_aleatorio = 5 #para testar com um numero estipulado previamente\n",
        "\n",
        "chute = int(input('Tente acertar o numero secreto ')) #para receber o \"chute\"\n",
        "\n",
        "while not chute == numero_aleatorio:#Faz com que a pessoa continue tentando ate acertar o numero secreto (le-se, enquanto NAO for igual)\n",
        "#while chute!=numero_aleatorio: # Poderia ser usada essa condico, Faz com que a pessoa continue tentando ate acertar o numero secreto (le-se, enquanto for diferente)\n",
        "  if chute == numero_aleatorio: #a partir desse \"if\" tem que ser indentado, pois assim faz com que as condicoes sejam executadas dentro do laco \"while\" acima\n",
        "    print('Parabens, voce acertou, o numero secreto que e:',numero_aleatorio) #Se a pessoa acertar de primeira, mostra essa msgm\n",
        "  elif chute > numero_aleatorio and chute < 11: )# se o valor do chute for maior que o numero aleatorio gerado\n",
        "    print('O numero secreto eh menor que', chute #mostra essa msgm\n",
        "    chute = int(input('Tente novamente! ')) #solicita um novo chute, sem alterar o numero aleatorio\n",
        "  elif chute < numero_aleatorio:\n",
        "    print('o numero secreto eh maior que', chute)\n",
        "    chute = int(input('Tente novamente! '))\n",
        "  else:\n",
        "    print('o numero surpresa tem que ser um numero de 1 a 10') #se o valor chutado for maior que 10\n",
        "    chute = int(input('Tente novamente! ')) #solicita um novo chute, sem alterar o numero aleatorio\n",
        "if chute == numero_aleatorio: #Se nao colocar esse ultimo \"if\", sem identacao, quando a pessoa acerta, nao aparece nenhuma mensagem final\n",
        "  print('Parabens, voce acertou, o numero secreto que e:',numero_aleatorio)"
      ]
    },
    {
      "cell_type": "code",
      "execution_count": null,
      "metadata": {
        "id": "0xQaT66hRKlX"
      },
      "outputs": [],
      "source": [
        "#Adivinhando um numero aleatorio (Acompanhando aula)\n",
        "\n",
        "import random #importa a funcao \"random\" para gerar numero aleatorios\n",
        "numero_aleatorio = random.randint(1,10) #gera um numero aleatorio, neste caso, entre de 1 a 10\n",
        "#numero_aleatorio = 5 #para testar com um numero estipulado previamente\n",
        "\n",
        "chute = int(input('Tente acertar o numero secreto ')) #para receber o \"chute\"\n",
        "acertou = False\n",
        "while acertou == False: #faz com que as condicoes sejam verificadas ate que a variavel \"acertou\" mude de \"False\" para \"True\", o que acontece quando o chute for igaul ao numero_aleatorio\n",
        "\n",
        "  if chute > numero_aleatorio and chute < 11: # se o valor do chute for maior que o numero aleatorio gerado\n",
        "    print('O numero secreto eh menor que', chute) #mostra essa msgm\n",
        "    chute = int(input('Tente novamente! ')) #solicita um novo chute, sem alterar o numero aleatorio\n",
        "  elif chute < numero_aleatorio:\n",
        "    print('o numero secreto eh maior que', chute)\n",
        "    chute = int(input('Tente novamente! '))\n",
        "  elif chute == numero_aleatorio: #a partir desse \"if\" tem que ser indentado, pois assim faz com que as condicoes sejam executadas dentro do laco \"while\" acima\n",
        "    acertou = True #Quando o chute for igual ao numero_aleatorio, muda a variavel \"acertou\" de \"False\" para \"True\"\n",
        "    print('Parabens, voce acertou, o numero secreto que e:',numero_aleatorio) #Se a pessoa acertar de primeira, mostra essa msgm\n",
        "  else:\n",
        "    print('o numero surpresa tem que ser um numero de 1 a 10') #se o valor chutado for maior que 10\n",
        "    chute = int(input('Tente novamente! ')) #solicita um novo chute, sem alterar o numero aleatorio"
      ]
    },
    {
      "cell_type": "code",
      "source": [
        "#Encontrando o fatorial\n",
        "numero = int(input(\"Quer calcular o fatorial de qual numero? \"))\n",
        "if numero > 0 :\n",
        "  fatorial = 1\n",
        "  for X in range(1, (numero+1)):\n",
        "    fatorial *= X\n",
        "  print('O fatorial de', numero, 'eh',fatorial)\n",
        "\n",
        "else:\n",
        "  print('So e possivel calcular o fatorial de numeros inteiros e maiores que 0') \n",
        "\n",
        "\n",
        "\n",
        "#print('O fatorial de', num, 'eh',total)"
      ],
      "metadata": {
        "colab": {
          "base_uri": "https://localhost:8080/"
        },
        "id": "jwm3-z1Itz-9",
        "outputId": "4246670c-145d-4ad8-f107-501b282cf64b"
      },
      "execution_count": 2,
      "outputs": [
        {
          "output_type": "stream",
          "name": "stdout",
          "text": [
            "Quer calcular o fatorial de qual numero? 3\n",
            "O fatorial de 3 eh 6\n"
          ]
        }
      ]
    },
    {
      "cell_type": "code",
      "source": [
        "#Radar de velocidade\n",
        "velocidade = int(input())\n",
        "limite_velocidade = 80\n",
        "if velocidade > limite_velocidade and velocidade <= (limite_velocidade + 10):\n",
        "  print('Levou multa leve')\n",
        "elif velocidade >= (limite_velocidade + 11) and velocidade <= (limite_velocidade + 20):\n",
        "  print ('Levou multa grave')\n",
        "elif velocidade > (limite_velocidade + 20):\n",
        "  print('Levou multa gravissima')\n",
        "else:\n",
        "  print('Nao levou multa')"
      ],
      "metadata": {
        "colab": {
          "base_uri": "https://localhost:8080/"
        },
        "id": "9vTzeWmFm76e",
        "outputId": "5c7817da-ab80-4580-8692-396c38b74896"
      },
      "execution_count": null,
      "outputs": [
        {
          "output_type": "stream",
          "name": "stdout",
          "text": [
            "55\n",
            "Nao levou multa\n"
          ]
        }
      ]
    },
    {
      "cell_type": "code",
      "source": [
        "#Simulador de um dado\n",
        "import random\n",
        "import PySimpleGUI\n",
        "\n",
        "class SimuladorDeDado:\n",
        "      \n",
        "  def __init__(self):\n",
        "      self.valor_minimo = 1\n",
        "      self.valor_maximo = 6\n",
        "      self.mensagem = 'Deseja jogar o dado?'\n",
        "    \n",
        "    \n",
        "    \n",
        "    \n",
        "  def Iniciar(self):\n",
        "      resposta = input(self.mensagem)\n",
        "      try:\n",
        "          if resposta == 'sim' or resposta == 's':\n",
        "              self.GerarValorDoDado()\n",
        "          elif resposta == 'nao' or resposta == 'n':\n",
        "              print('Obrigado pela participacao!')\n",
        "          else:\n",
        "              print(\"Favor digitar sim ou nao\")\n",
        "      except:\n",
        "        print('ocorreu um erro ao receber sua resposta!')\n",
        "\n",
        "            \n",
        "  def GerarValorDoDado(self):\n",
        "      print(random.randint(self.valor_minimo,self.valor_maximo))\n",
        "\n",
        "\n",
        "simulador = SimuladorDeDado()\n",
        "simulador.Iniciar()\n"
      ],
      "metadata": {
        "colab": {
          "base_uri": "https://localhost:8080/"
        },
        "id": "Zegk8iC3yKkZ",
        "outputId": "93f0da4c-00af-4f27-9ffe-aaac6a9991bc"
      },
      "execution_count": null,
      "outputs": [
        {
          "output_type": "stream",
          "name": "stdout",
          "text": [
            "Deseja jogar o dado?s\n",
            "3\n"
          ]
        }
      ]
    },
    {
      "cell_type": "code",
      "source": [
        "#Programa Decida por mim!\n",
        "\n",
        "import random\n",
        "\n",
        "class DecidaPorMim:\n",
        "    def __init__(self):\n",
        "      self.respostas = [\n",
        "          'Com certeza, voce deve fazer isso!',\n",
        "          'Nao sei, mas no fundo voce sabe!'\n",
        "          'Nao faca isso nao. Jamais!'\n",
        "          'Acho que ainda nao esta no momento certo.'\n",
        "          'E agora ou nunca, se joga!'\n",
        "          'Acho que esta na hora certa.'\n",
        "          'Talvez voce deva refletir um pouco mais sobre isso.'\n",
        "          'Ja deveria ter feito isso.'\n",
        "      ]\n",
        "\n",
        "    def Iniciar(self):\n",
        "        input('Faca sua pergunta ')\n",
        "        print (random.choice(self.respostas))\n",
        "\n",
        "        decida = DecidaPorMim()\n",
        "        decida.iniciar()"
      ],
      "metadata": {
        "id": "5X3D-bcadeYk"
      },
      "execution_count": null,
      "outputs": []
    },
    {
      "cell_type": "code",
      "source": [
        "#Programa Decida por mim!\n",
        "\n",
        "import random\n",
        "import PySimpleGUI as sg\n",
        "\n",
        "class DecidaPorMim:\n",
        "    def __init__(self):\n",
        "        self.respostas = [\n",
        "          'Com certeza, voce deve fazer isso!',\n",
        "          'Nao sei, mas no fundo voce sabe!',\n",
        "          'Nao faca isso nao. Jamais!',\n",
        "          'Acho que ainda nao esta no momento certo.',\n",
        "          'E agora ou nunca, se joga!',\n",
        "          'Acho que esta na hora certa.',\n",
        "          'Talvez voce deva refletir um pouco mais sobre isso.',\n",
        "          'Ja deveria ter feito isso.'\n",
        "      ]\n",
        "\n",
        "    def Iniciar(self):\n",
        "        #Layout\n",
        "        layout = [\n",
        "            [sg.Text('Faca sua pergunta!')],\n",
        "            [sg.Input()],\n",
        "            [sg.Output(size=(50,10))],\n",
        "            [sg.Button('Decida por mim')]\n",
        "        ]\n",
        "\n",
        "        #Criar Janeta\n",
        "        self.janela = sg.Window('Decida por mim!)', Layout=layout)\n",
        "        while True: #Cria um loop para continuar perguntando\n",
        "\n",
        "        #Ler os Valores\n",
        "        self.eventos, self.valores = self.janela.Read()\n",
        "\n",
        "        #Faca algo com os valores\n",
        "        if self.eventos == 'Decida por mim':\n",
        "            print (random.choice(self.respostas))\n",
        "            self.janela.Close()\n",
        "\n",
        "decida = DecidaPorMim()\n",
        "decida.Iniciar()"
      ],
      "metadata": {
        "colab": {
          "base_uri": "https://localhost:8080/",
          "height": 373
        },
        "id": "7P_KreJymBck",
        "outputId": "bb453784-7bb8-4e87-89ea-32490faca3bd"
      },
      "execution_count": null,
      "outputs": [
        {
          "output_type": "error",
          "ename": "ModuleNotFoundError",
          "evalue": "ignored",
          "traceback": [
            "\u001b[0;31m---------------------------------------------------------------------------\u001b[0m",
            "\u001b[0;31mModuleNotFoundError\u001b[0m                       Traceback (most recent call last)",
            "\u001b[0;32m<ipython-input-7-612a0fba1406>\u001b[0m in \u001b[0;36m<module>\u001b[0;34m\u001b[0m\n\u001b[1;32m      2\u001b[0m \u001b[0;34m\u001b[0m\u001b[0m\n\u001b[1;32m      3\u001b[0m \u001b[0;32mimport\u001b[0m \u001b[0mrandom\u001b[0m\u001b[0;34m\u001b[0m\u001b[0;34m\u001b[0m\u001b[0m\n\u001b[0;32m----> 4\u001b[0;31m \u001b[0;32mimport\u001b[0m \u001b[0mPySimpleGUI\u001b[0m \u001b[0;32mas\u001b[0m \u001b[0msg\u001b[0m\u001b[0;34m\u001b[0m\u001b[0;34m\u001b[0m\u001b[0m\n\u001b[0m\u001b[1;32m      5\u001b[0m \u001b[0;34m\u001b[0m\u001b[0m\n\u001b[1;32m      6\u001b[0m \u001b[0;32mclass\u001b[0m \u001b[0mDecidaPorMim\u001b[0m\u001b[0;34m:\u001b[0m\u001b[0;34m\u001b[0m\u001b[0;34m\u001b[0m\u001b[0m\n",
            "\u001b[0;31mModuleNotFoundError\u001b[0m: No module named 'PySimpleGUI'",
            "",
            "\u001b[0;31m---------------------------------------------------------------------------\u001b[0;32m\nNOTE: If your import is failing due to a missing package, you can\nmanually install dependencies using either !pip or !apt.\n\nTo view examples of installing some common dependencies, click the\n\"Open Examples\" button below.\n\u001b[0;31m---------------------------------------------------------------------------\u001b[0m\n"
          ],
          "errorDetails": {
            "actions": [
              {
                "action": "open_url",
                "actionText": "Open Examples",
                "url": "/notebooks/snippets/importing_libraries.ipynb"
              }
            ]
          }
        }
      ]
    }
  ]
}