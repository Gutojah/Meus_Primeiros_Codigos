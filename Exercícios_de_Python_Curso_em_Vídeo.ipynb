{
  "nbformat": 4,
  "nbformat_minor": 0,
  "metadata": {
    "colab": {
      "provenance": [],
      "authorship_tag": "ABX9TyPAuvEANrRIGkSO7ibCTfnI",
      "include_colab_link": true
    },
    "kernelspec": {
      "name": "python3",
      "display_name": "Python 3"
    },
    "language_info": {
      "name": "python"
    }
  },
  "cells": [
    {
      "cell_type": "markdown",
      "metadata": {
        "id": "view-in-github",
        "colab_type": "text"
      },
      "source": [
        "<a href=\"https://colab.research.google.com/github/Gutojah/Python/blob/main/Exerc%C3%ADcios_de_Python_Curso_em_V%C3%ADdeo.ipynb\" target=\"_parent\"><img src=\"https://colab.research.google.com/assets/colab-badge.svg\" alt=\"Open In Colab\"/></a>"
      ]
    },
    {
      "cell_type": "code",
      "source": [
        "#Testes\n",
        "#Interecao e multiplas respostas\n",
        "import random\n",
        "\n",
        "nome = input('Qual o seu nome? ')\n",
        "print('Ola',nome+', Prazer em lhe conhecer')\n",
        "idade = input(' qual a sua idade? ')\n",
        "respostas = random.choice ([ \n",
        "    'Tudo isso? Quem lhe ve pensa que tens muito mais que {} anos' .format(idade),\n",
        "    'So isso? Olhando para voce, diria que tens muito mais que {} anos' .format(idade),\n",
        "    'Bem me parecia que tinhas {} anos' .format(idade),  \n",
        "    'Uau {}! Aparentas ter muito menos que {} anos' .format(nome, idade),\n",
        "    'Serio isso {0}? Me desculpe pela indelicadeza, mas aparentas ter muito mais que {1}.' .format(nome, idade),\n",
        "    'Meus parabens {1}, aparentas ter muito menos que {0} anos' .format(idade, nome),\n",
        "    'Em cada perna {}? Posso ser uma maquina, mas nao precisar mentir pra mim, sei que tens muito mais que {} anos' .format(nome, idade),\n",
        "    'Se voce realmente tiver tudo isso, tens que mostrar aos outros os teus segredos {}, pois estas muito bem para quem ja tem {} anos' .format(nome, idade),\n",
        "    'Se realmente tiveres so {} anos, tens que procurar ajuda {}, pois aparentas ter muito mais!' .format(idade, nome),\n",
        "    'Aproveite, essa idade passa voando, logo logo faras mais outros {} anos' .format(idade),\n",
        "    ])\n",
        "\n",
        "#o metodo \".format\" substitui {} pela variavel pretendida, no caso (idade)\n",
        "print(respostas) #Como a idade ja foi chamada no corpo da mensagem, nao eh preciso coloca-la entre os () do print"
      ],
      "metadata": {
        "id": "EpoxvkhPdUjw"
      },
      "execution_count": null,
      "outputs": []
    },
    {
      "cell_type": "code",
      "source": [
        "#Testes = Assim fica mais limpo!\n",
        "#Interecao e multiplas respostas\n",
        "import random\n",
        "\n",
        "nome = input('Qual o seu nome? ')\n",
        "print('Ola {}, Prazer em lhe conhecer' .format(nome)) #o metodo \".format\" substitui as {} pela variavel entre (), quando ha so uma, nao ha a necessidade de numerar ID\n",
        "idade = input(' qual a sua idade? ')\n",
        "respostas = random.choice ([ \n",
        "    'Tudo isso? Quem lhe ve pensa que tens muito mais que {} anos',\n",
        "    'So isso? Olhando para voce, diria que tens muito mais que {} anos',\n",
        "    'Bem me parecia que tinhas {} anos',  \n",
        "    'Uau {}! Aparentas ter muito menos que {} anos',\n",
        "    'Serio isso {0}? Me desculpe pela indelicadeza, mas aparentas ter muito mais que {1}.',\n",
        "    'Meus parabens {0}, aparentas ter muito menos que {1} anos' ,\n",
        "    'Em cada perna {}? Posso ser uma maquina, mas nao precisar mentir pra mim, sei que tens muito mais que {} anos' ,\n",
        "    'Se voce realmente tiver tudo isso, tens que mostrar aos outros os teus segredos {}, pois estas muito bem para quem ja tem {} anos' ,\n",
        "    'Se realmente tiveres so {} anos, tens que procurar ajuda {}, pois aparentas ter muito mais!',\n",
        "    'Aproveite, essa idade passa voando, logo logo faras mais outros {} anos'\n",
        "    ])\n",
        "\n",
        "\n",
        "print(respostas .format(nome,idade)) #o metodo \".format\" substitui as {} pela variavel pretendida, no caso (nome (com ID 0) e idade (com ID 1))"
      ],
      "metadata": {
        "colab": {
          "base_uri": "https://localhost:8080/"
        },
        "outputId": "add216f7-a97d-47a0-a6a2-0e234e7a9399",
        "id": "6TQurN15dx63"
      },
      "execution_count": null,
      "outputs": [
        {
          "output_type": "stream",
          "name": "stdout",
          "text": [
            "Qual o seu nome? Ricardo\n",
            "Ola Ricardo, Prazer em lhe conhecer\n",
            " qual a sua idade? 54\n",
            "Em cada perna Ricardo? Posso ser uma maquina, mas nao precisar mentir pra mim, sei que tens muito mais que 54 anos\n"
          ]
        }
      ]
    },
    {
      "cell_type": "markdown",
      "source": [
        "Exercicios do Curso de Python - Curso em Video - Youtube"
      ],
      "metadata": {
        "id": "ED-0eE7OKm55"
      }
    },
    {
      "cell_type": "code",
      "source": [
        "#Exercicio 1 : Exibindo msgm\n",
        "msg = 'Ola, mundo!'\n",
        "print (msg)\n"
      ],
      "metadata": {
        "id": "jLln0BSOKrqQ",
        "colab": {
          "base_uri": "https://localhost:8080/"
        },
        "outputId": "b1f127ff-583e-4e20-eab9-082a3117021a"
      },
      "execution_count": null,
      "outputs": [
        {
          "output_type": "stream",
          "name": "stdout",
          "text": [
            "Ola, mundo!\n"
          ]
        }
      ]
    },
    {
      "cell_type": "code",
      "source": [
        "#Exercicio 2 : Iteragindo =com o usuario (Input)\n",
        "nome = input('Qual o seu nome? ')\n",
        "print('Ola {}, e um prazer lhe conhecer!'.format (nome)) #O Metodo \".format(variavel, ou, variaveis), apos a frase, faz com que as {ID} sejam substituidas pela variavel pretendida\", se nao for colocado a ID, ela vai seguir a ordem dos itens entre () apos .format\n"
      ],
      "metadata": {
        "id": "X24n2ekkmaYF"
      },
      "execution_count": null,
      "outputs": []
    },
    {
      "cell_type": "code",
      "source": [
        "#Exercicio 3  : Somando dois numeros\n",
        "n1 = int(input('Digite o primeiro numero '))\n",
        "n2 = int(input('Digite o segundo numero '))\n",
        "soma = int(n1+n2)\n",
        "#print(soma,'eh o resultado soma entre', n1, 'e',n2) #Metodo tradicional = Python 2\n",
        "#print('{} eh o resuldato da soma entre {} e {}' .format(soma,n1,n2)) #Se as {} estiverem vazias, sera seguido a sequencia das variaveis entre () = Python 3\n",
        "print('{0} eh o resuldato da soma entre {2} e {1}' .format(soma,n1,n2)) #Se houver um numero entre as {}, estes, representam o ID das variaveis pretendidas"
      ],
      "metadata": {
        "id": "N_8RwaFpnTi-"
      },
      "execution_count": null,
      "outputs": []
    },
    {
      "cell_type": "code",
      "source": [
        "#Exercicio 4 : Dissecando uma variavel (Tipos Primitivos)\n",
        "n = input('Digite algo ')\n",
        "print(type(n))\n",
        "print('Sao apenas letras?', n.isalpha())\n",
        "print('Sao apenas espacos?', n.isspace())\n",
        "print('Sao Apenas numeros?', n.isnumeric())\n",
        "print('Eh alfanumerico?', n.isalnum())\n",
        "print('Esta apenas em letras maiusculas?', n.isupper())\n",
        "print('Sao apenas letras minusculas?', n.islower())\n",
        "print('Apenas a primeira letra eh maiuscula? Ou seja, esta capitalizada?', n.istitle())"
      ],
      "metadata": {
        "id": "Mp7eS_pbmvWD"
      },
      "execution_count": null,
      "outputs": []
    },
    {
      "cell_type": "code",
      "source": [
        "#Exercicio 4 : Um pouco mais elaborado: Dissecando uma variavel (Tipos Primitivos)\n",
        "x = (input('Digite algo e em seguida aperte \"ENTER\" '))\n",
        "if x.isalpha() == True:\n",
        "  print( 'Voce digitou apenas letras. O tipo primitivo deste valor eh:', type(x))\n",
        "elif x.isnumeric() == True:\n",
        "  x = int(x) # Converte em numero inteiro\n",
        "  print( 'Voce digitou um numero inteiro. O tipo primitivo deste valor eh:', type(x))\n",
        "elif x.isspace() == True: \n",
        "  print('Voce digitou apenas espacos. O tipo primitivo deste valor eh:', type(x))\n",
        "  #x = ?? #Converte para tipo primitivo \"espaco\"\n",
        "elif x.isalnum() == True:\n",
        "\n",
        "   print('Voce digitou um valor alfanumerico. O tipo primitivo deste valor eh:', type(x))\n",
        "\n"
      ],
      "metadata": {
        "id": "g_EN0-UngFk9"
      },
      "execution_count": null,
      "outputs": []
    },
    {
      "cell_type": "code",
      "source": [
        "#Aula 7: Operacoes Aritimeticas\n",
        "'''\n",
        "Operadores = Funcao\n",
        "+          = Soma\n",
        "-          = Subtracao\n",
        "*          = Multiplicacao\n",
        "**         = Exponeciacao (Potencia)\n",
        "/          = Divisao\n",
        "//         = Divisao inteira (Sem resto e sem virgula)\n",
        "%          = Modulo (ou resto da divisao)\n",
        "==         = Igualdade\n",
        "!=         = Diferenca\n",
        "**(1/2)    = Raiz Quadrada\n",
        "**(1/3)    = Raiz Cubica\n",
        "\n",
        "'''\n",
        "#Exemplos:\n",
        "n1 = int(input('Digite o primeiro numero '))\n",
        "n2 = int(input('Digite o segundo numero '))\n",
        "print('resultado_soma =', n1 + n2,)\n",
        "print('resultado_subtracao =', n1 - n2,)\n",
        "print('resultado_Multiplicacao =', n1 * n2,)\n",
        "print('resultado_Exponenciacao =', n1 ** n2,)\n",
        "print('resultado_Divisao =', n1 / n2,)\n",
        "print('resultado_Divisao_Inteira =', n1 // n2,)\n",
        "print('resultado_Modulo =', n1 % n2,)\n",
        "print('resultado_igualdade =', n1 == n2,)\n",
        "print('resultado_diferenca =', n1 != n2)\n",
        "\n",
        "\n",
        "'''\n",
        "ORDEM DE PRECEDENCIAENTRE OS OPERADORES:\n",
        "1 ()\n",
        "2 **\n",
        "3 * / //  e  % (Entre eles, o qual aparecer primeiro)\n",
        "4 + e - (Entre eles, o qual aparecer primeiro)\n",
        "'''\n",
        "\n"
      ],
      "metadata": {
        "id": "46HAX3C0tG5-"
      },
      "execution_count": null,
      "outputs": []
    },
    {
      "cell_type": "code",
      "source": [
        "#Aula 7a\n",
        "#Alinhando input\n",
        "nome = input('Qual o seu nome?')\n",
        "print('Prazer em lhe conhecer {}!!!' format(nome))\n",
        "print('Prazer em lhe conhecer {:15}!!!' format(nome))\n",
        "print('Prazer em lhe conhecer {:<15}!!!' format(nome))\n",
        "print('Prazer em lhe conhecer {:>15}!!!' format(nome))\n",
        "print('Prazer em lhe conhecer {:^15}!!!' format(nome))\n",
        "print('Prazer em lhe conhecer {:=^20}!!!' format(nome))\n",
        "print('Prazer em lhe conhecer {:*^30}!!!' format(nome))\n"
      ],
      "metadata": {
        "id": "W3kHsZKm5MrR"
      },
      "execution_count": null,
      "outputs": []
    },
    {
      "cell_type": "code",
      "source": [
        "#Exercio 5 : Mostrando o sucessor e o antecessor\n",
        "n = int(input('Digite um numero inteiro '))\n",
        "suc = n + 1 #Calcula o numero sucessor e grava na variavel \"suc\"\n",
        "ant = n - 1 #Calcula o antecessor em \"ant\"\n",
        "print ('Voce digitou o numero {0},\\no antecessor de {0}  eh {1} \\ne o sucessor de {0} eh {2}' .format(n,ant,suc))\n",
        "#METODO ALTERNATIVO = Desta forma não precisa criar nenhuma variavel para Sucessor e nem Antecessor\n",
        "#Esse método é util quando não for mais preciso realizar esse calculo.\n",
        "print ('Voce digitou o numero {0},\\no antecessor de {0}  eh {1} \\ne o sucessor de {0} eh {2}' .format(n,(n-1),(n+1)))\n"
      ],
      "metadata": {
        "id": "P0E6vrKhFQ5S"
      },
      "execution_count": null,
      "outputs": []
    },
    {
      "cell_type": "code",
      "source": [
        "#Exercicio 6 : Qual o dobro, o triplo, raiz quadrada e raiz tripla\n",
        "n = int(input('Digite um numero '))\n",
        "dob = n * 2\n",
        "tri = n * 3\n",
        "raiz2 = n ** (1/2) # ou pow(n,(1/2))\n",
        "raiz3 = pow(n,(1/3)) # ou n ** (1/3)\n",
        "print(' Voce digitou o numero {0}, \\n o dobro de {0} eh {1}, \\n o triplo de {0} eh {2}, \\n a raiz quadrada de {0} eh {3:.2f} e \\n a raiz cubica de {0} eh {4:.2f}' .format(n,dob,tri,raiz2,raiz3)) \n",
        "#{3:.2f} faz com que o item com ID 3 possua apenas 2 casa apos a virgula"
      ],
      "metadata": {
        "id": "Zd-Jm8SJHGcM",
        "colab": {
          "base_uri": "https://localhost:8080/"
        },
        "outputId": "93203d8d-e842-4dc7-d610-171ad1c039cf"
      },
      "execution_count": null,
      "outputs": [
        {
          "output_type": "stream",
          "name": "stdout",
          "text": [
            "Digite um numero 81\n",
            " Voce digitou o numero 81, \n",
            " o dobro de 81 eh 162, \n",
            " o triplo de 81 eh 243, \n",
            " a raiz quadrada de 81 eh 9.00 e \n",
            " a raiz cubica de 81 eh 4.33\n"
          ]
        }
      ]
    },
    {
      "cell_type": "code",
      "source": [
        " #Exercicio 7 : Calculando a media final entre 3 notas de um aluno\n",
        "nota1 = float(input('Digite a primeira nota que o aluno recebeu '))\n",
        "nota2 = float(input('Digite a segunda nota que o aluno recebeu '))\n",
        "nota3 = float(input('Digite a terceira nota que o aluno recebeu '))\n",
        "soma = nota1 + nota2 + nota3\n",
        "media = soma / 3\n",
        "\n",
        "print('A media do aluno foi {:.1f}' .format(media)) #{:.1f} faz com que o resultado possua apenas uma casa apos a virgula"
      ],
      "metadata": {
        "id": "GCKuMj_EIwY1",
        "colab": {
          "base_uri": "https://localhost:8080/"
        },
        "outputId": "e6fd58c3-027e-4925-8290-6742d17e3ad3"
      },
      "execution_count": null,
      "outputs": [
        {
          "output_type": "stream",
          "name": "stdout",
          "text": [
            "Digite a primeira nota que o aluno recebeu 5.5\n",
            "Digite a segunda nota que o aluno recebeu 9.8\n",
            "Digite a terceira nota que o aluno recebeu 2.3\n",
            "A media do aluno foi 5.9\n"
          ]
        }
      ]
    },
    {
      "cell_type": "code",
      "source": [],
      "metadata": {
        "id": "vuFRm7TqbVZ8"
      },
      "execution_count": null,
      "outputs": []
    },
    {
      "cell_type": "code",
      "source": [
        "#Exercicio 8 : Convertendo Metros em Centimetros e Milimetros e Kilometros\n",
        "metro = int(input('Quantos metros gostaria de converter?  '))\n",
        "km = metro / 1000\n",
        "centi = metro * 100\n",
        "mili = metro * 1000\n",
        "\n",
        "print(' {}m são {}km \\n{}cm \\n{}mm' .format(metro,km,centi,mili))"
      ],
      "metadata": {
        "id": "AERdpCbOKX6A",
        "colab": {
          "base_uri": "https://localhost:8080/"
        },
        "outputId": "1192984c-31cd-4668-b3e5-df01b0e1ade2"
      },
      "execution_count": null,
      "outputs": [
        {
          "output_type": "stream",
          "name": "stdout",
          "text": [
            "Quantos metros gostaria de converter?  127\n",
            " 127m são 0.127km \n",
            "12700cm \n",
            "127000mm\n"
          ]
        }
      ]
    },
    {
      "cell_type": "code",
      "source": [
        "# Exercicio 9 : Tabuada = Minha Solucao\n",
        "n = int(input('Voce quer saber a tabuada de qual numero? '))\n",
        "for i in range(1,11):\n",
        "  print( n,'X',i, '=', n*i)"
      ],
      "metadata": {
        "id": "Y971bZ-wUuTF",
        "colab": {
          "base_uri": "https://localhost:8080/"
        },
        "outputId": "b212736f-9722-4cb7-a8d4-8abd797831b8"
      },
      "execution_count": null,
      "outputs": [
        {
          "output_type": "stream",
          "name": "stdout",
          "text": [
            "Voce quer saber a tabuada de qual numero? 5\n",
            "5 X 1 = 5\n",
            "5 X 2 = 10\n",
            "5 X 3 = 15\n",
            "5 X 4 = 20\n",
            "5 X 5 = 25\n",
            "5 X 6 = 30\n",
            "5 X 7 = 35\n",
            "5 X 8 = 40\n",
            "5 X 9 = 45\n",
            "5 X 10 = 50\n"
          ]
        }
      ]
    },
    {
      "cell_type": "code",
      "source": [
        "#Exercicio 9 :Tabuada = Resolvida pelo professor\n",
        "num = int(input('Voce quer saber a tabuada de qual numero? '))\n",
        "print ('{} X {} = {}' .format(num, 1, num*1))\n",
        "print ('{} X {} = {}' .format(num, 2, num*2))\n",
        "print ('{} X {} = {}' .format(num, 3, num*3))\n",
        "print ('{} X {} = {}' .format(num, 4, num*4))\n",
        "print ('{} X {} = {}' .format(num, 5, num*5))\n",
        "print ('{} X {} = {}' .format(num, 6, num*6))\n",
        "print ('{} X {} = {}' .format(num, 7, num*7))\n",
        "print ('{} X {} = {}' .format(num, 8, num*8))\n",
        "print ('{} X {} = {}' .format(num, 9, num*9))\n",
        "print ('{} X {} = {}' .format(num, 10, num*10))"
      ],
      "metadata": {
        "colab": {
          "base_uri": "https://localhost:8080/"
        },
        "id": "ceqwCuupEG9_",
        "outputId": "87ae75f6-49af-453e-fe53-e599dc474b2d"
      },
      "execution_count": null,
      "outputs": [
        {
          "output_type": "stream",
          "name": "stdout",
          "text": [
            "Voce quer saber a tabuada de qual numero? 5\n",
            "5 X  1 = 5\n",
            "5 X 2 = 10\n",
            "5 X 3 = 15\n",
            "5 X 4 = 20\n",
            "5 X 5 = 25\n",
            "5 X 6 = 30\n",
            "5 X 7 = 35\n",
            "5 X 8 = 40\n",
            "5 X 9 = 45\n",
            "5 X 10 = 50\n"
          ]
        }
      ]
    },
    {
      "cell_type": "code",
      "source": [
        "#Exercicio 9 :Tabuada = Unindo as duas resolucoes\n",
        "n = int(input('Voce quer saber a tabuada de qual numero? '))\n",
        "print('='*11)\n",
        "for i in range(1,11):\n",
        "\n",
        "  print('{0} X {1:2} = {2:2}' .format(n,i, n*i))\n",
        "print('#'*11)"
      ],
      "metadata": {
        "colab": {
          "base_uri": "https://localhost:8080/"
        },
        "id": "AVf-oeGyFhiM",
        "outputId": "3451a334-232c-4083-ca9a-d1a84dc48ed3"
      },
      "execution_count": null,
      "outputs": [
        {
          "output_type": "stream",
          "name": "stdout",
          "text": [
            "Voce quer saber a tabuada de qual numero? 8\n",
            "===========\n",
            "8 X  1 =  8\n",
            "8 X  2 = 16\n",
            "8 X  3 = 24\n",
            "8 X  4 = 32\n",
            "8 X  5 = 40\n",
            "8 X  6 = 48\n",
            "8 X  7 = 56\n",
            "8 X  8 = 64\n",
            "8 X  9 = 72\n",
            "8 X 10 = 80\n",
            "###########\n"
          ]
        }
      ]
    },
    {
      "cell_type": "code",
      "source": [
        "#Exercicio 10 : Covertendo reais em dolar e euro\n",
        "reais = float(input('Quantos reais voce possui? '))\n",
        "dolar = reais / 5.17\n",
        "euro = reais / 5.48\n",
        "print('Com {} reais voce poderia converter em {:.2f} dolares ou {:.2f} euros.' .format(reais,dolar,euro))"
      ],
      "metadata": {
        "colab": {
          "base_uri": "https://localhost:8080/"
        },
        "id": "YHlYBIM5bHLU",
        "outputId": "85e1234b-0411-4851-eaba-107e277c7d44"
      },
      "execution_count": null,
      "outputs": [
        {
          "output_type": "stream",
          "name": "stdout",
          "text": [
            "Quantos reais voce possui? 25.50\n",
            "Com 25.5 reais voce poderia converter em 4.93 dolares ou 4.65 euros.\n"
          ]
        }
      ]
    },
    {
      "cell_type": "code",
      "source": [
        "#Exercicio 10 : Covertendo reais em dolar e euro fornecendo a cotacao\n",
        "reais = float(input('Quantos Reais voce possui? '))\n",
        "dolar = float(input('Qual a cotação de hoje para o Dólar? '))\n",
        "euro = float(input('Qual a cotação de hoje para o Euro? '))\n",
        "reais_em_dolar = reais/dolar\n",
        "reais_em_euro = reais/euro\n",
        "print('Com {} reais voce poderia converter em {:.2f} dolares ou {:.2f} euros.' .format(reais,reais_em_dolar,reais_em_euro))"
      ],
      "metadata": {
        "colab": {
          "base_uri": "https://localhost:8080/"
        },
        "id": "YoER0Ho0IU4V",
        "outputId": "3fb3b65b-bde4-4686-e8de-26de14b3a278"
      },
      "execution_count": null,
      "outputs": [
        {
          "output_type": "stream",
          "name": "stdout",
          "text": [
            "Quantos Reais voce possui? 700\n",
            "Qual a cotação de hoje para o Dólar? 4.98\n",
            "Qual a cotação de hoje para o Euro? 5.48\n",
            "Com 700.0 reais voce poderia converter em 140.56 dolares ou 127.74 euros.\n"
          ]
        }
      ]
    },
    {
      "cell_type": "code",
      "source": [
        "#Exercicio 11: Calculando area de um retangulo\n",
        "b = float(input('Digite a largura em metros ')) #recebe a largura da area que se quer calcular\n",
        "h = float(input('Digite a altura em metros ')) #recebe a altura da area que se quer calcular\n",
        "a = b*h #calcula a area do retangulo ou quadrado\n",
        "tinta = a / 2 # Calcula a quantidade de tinta necessaria para pintar a parede, considerando que cada litro de tinta pinta 2 metros quadrados\n",
        "if b == h:\n",
        "  print('A area de uma parede com os quatro lados medindo {0}m é igual a {2:.2f}m2. \\nSendo assim, serão necessários {3} litros de tinta para pintar a parede por completo!' .format(b,h,a,tinta))\n",
        "else:\n",
        "  print ('A area de uma parede com {0}m de largura e {1}m de altura é igual {2:.2f} metros quadrados. \\nSendo assim, serão necessários {3} litros de tinta para pintar a parede por completo!'  .format(b,h,a,tinta))\n"
      ],
      "metadata": {
        "colab": {
          "base_uri": "https://localhost:8080/"
        },
        "id": "bTg0vDzPsktF",
        "outputId": "1c3c7ee0-3a63-407b-ab89-ab6d8ace360c"
      },
      "execution_count": null,
      "outputs": [
        {
          "output_type": "stream",
          "name": "stdout",
          "text": [
            "Digite a largura em metros 3\n",
            "Digite a altura em metros 4\n",
            "A area de uma parede com 3.0m de largura e 4.0m de altura é igual 12.00 metros quadrados. \n",
            "Sendo assim, serão necessários 6.0 litros de tinta para pintar a parede por completo!\n"
          ]
        }
      ]
    },
    {
      "cell_type": "code",
      "source": [
        "#Exercicio 12: Calculado desconto\n",
        "p = float(input('Digite o preço do artigo '))\n",
        "d = float(input('Digite quantos porcento de desconto será aplicado '))\n",
        "desc = (p*d)/100 #Calcula o desconto\n",
        "np = float(p-desc) #valor inicial - o desconto aplicado\n",
        "print('O valor inicial deste artigo era {0:.2f} euros, aplicando o desconto de {1:.1f}%, \\nO artigo passa a custar apenas {3:.2f} euros. \\nO que representa uma economia de {2:.2f} euros' .format(p,d,desc,np))\n"
      ],
      "metadata": {
        "colab": {
          "base_uri": "https://localhost:8080/"
        },
        "id": "3_QNylFLyBqS",
        "outputId": "d44c49bf-8e76-457e-fbe1-1b97ce48272d"
      },
      "execution_count": null,
      "outputs": [
        {
          "output_type": "stream",
          "name": "stdout",
          "text": [
            "Digite o preço do artigo 45\n",
            "Digite quantos porcento de desconto será aplicado 45\n",
            "O valor inicial deste artigo era 45.00 euros, aplicando o desconto de 45.0%, \n",
            "O artigo passa a custar apenas 24.75 euros. \n",
            "O que representa uma economia de 20.25 euros\n"
          ]
        }
      ]
    },
    {
      "cell_type": "code",
      "source": [
        "#Exercicio 13: Calculando aumento\n",
        "sal = float(input('Digite o valor do salário atual '))\n",
        "porc_aum = float(input('Digite a porcentagem do aumento que o funcionário irá receber '))\n",
        "aum = (sal*porc_aum)/100\n",
        "novo_sal = sal + aum\n",
        "print('Com um aumento de {}% em seu salario, o funcionário passa a receber {}, \\nO que representa ganho real de {} euros!' .format(porc_aum, novo_sal,aum))"
      ],
      "metadata": {
        "colab": {
          "base_uri": "https://localhost:8080/"
        },
        "id": "O3s_d41J7_li",
        "outputId": "16fd9b80-73ce-402b-d6b2-6ed5ff57cabc"
      },
      "execution_count": null,
      "outputs": [
        {
          "output_type": "stream",
          "name": "stdout",
          "text": [
            "Digite o valor do salário atual 1200\n",
            "Digite a porcentagem do aumento que o funcionário irá receber 15\n",
            "Com um aumento de 15.0% em seu salario, o funcionário passa a receber 1380.0, \n",
            "O que representa ganho real de 180.0 euros!\n"
          ]
        }
      ]
    },
    {
      "cell_type": "code",
      "source": [
        "#Exercicio 14: Conversor de temperaturas\n",
        "c=float(input('Digite a temperatura em °C: ')) #Solicita a temperatura em Celsius (ou Centigrados)\n",
        "f = c * 1.8+32 #Converte a temperatura de Celsius para Fahrenheit\n",
        "ff = ((9 * c) / 5)+32 #Ouytra forma de Converter a temperatura de Celsius para Fahrenheit\n",
        "k = c + 273.15 #Converte a temperatura de Celsius para Kelvin\n",
        "print('{0}°C são equivalentes a {1:.2f}°F e {2:.2f}°K' .format(c,f,k))\n",
        "print(ff)"
      ],
      "metadata": {
        "colab": {
          "base_uri": "https://localhost:8080/"
        },
        "id": "phZxWgQoMbNN",
        "outputId": "d7fb67c6-b696-4ed2-8c53-90c1c06c0526"
      },
      "execution_count": null,
      "outputs": [
        {
          "output_type": "stream",
          "name": "stdout",
          "text": [
            "Digite a temperatura em °C: 87\n",
            "87.0°C são equivalentes a 188.60°F e 360.15°K\n",
            "188.6\n"
          ]
        }
      ]
    },
    {
      "cell_type": "code",
      "source": [
        "#Exercicio 15: Calculo aluguel de carro\n",
        "dias = int(input('O carro foi alugado por quantos dias? '))\n",
        "km = float(input('Quantos km foram percorridos? '))\n",
        "preco_por_dia = 60\n",
        "preco_por_km = 0.15\n",
        "p_dias = dias * preco_por_dia\n",
        "p_km = km * preco_por_km\n",
        "total = p_dias + p_km\n",
        "print('O valor total a ser pago é de R${:.2f}. \\nMuito obrigado e volte sempre!' .format(total))\n"
      ],
      "metadata": {
        "colab": {
          "base_uri": "https://localhost:8080/"
        },
        "id": "uD5ynTShO-aj",
        "outputId": "38158664-d08d-427b-f3a9-6d7c19a1f8e4"
      },
      "execution_count": null,
      "outputs": [
        {
          "output_type": "stream",
          "name": "stdout",
          "text": [
            "O carro foi alugado por quantos dias? 5\n",
            "Quantos km foram percorridos? 24.6\n",
            "O valor total a ser pago é de R$303.69. \n",
            "Muito obrigado e volte sempre!\n"
          ]
        }
      ]
    },
    {
      "cell_type": "code",
      "source": [
        "#Exercicio 15: Calculo aluguel de carro = Mais enxuto\n",
        "dias = int(input('O carro foi alugado por quantos dias? '))\n",
        "km = float(input('Quantos km foram percorridos? '))\n",
        "total = (dias * 60) + (km * 0.15)\n",
        "print('O valor total a ser pago é de R${:.2f}. \\nMuito obrigado e volte sempre!' .format(total))\n"
      ],
      "metadata": {
        "colab": {
          "base_uri": "https://localhost:8080/"
        },
        "id": "21SFAtvu4HXv",
        "outputId": "ec9e8c1d-f3b8-4ed3-901c-420717323633"
      },
      "execution_count": null,
      "outputs": [
        {
          "output_type": "stream",
          "name": "stdout",
          "text": [
            "O carro foi alugado por quantos dias? 4\n",
            "Quantos km foram percorridos? 55\n",
            "O valor total a ser pago é de R$248.25. \n",
            "Muito obrigado e volte sempre!\n"
          ]
        }
      ]
    },
    {
      "cell_type": "code",
      "source": [
        "#Aula 8: MÓDULOS!\n",
        "'''\n",
        "import nome_da_biblioteca #»» Importa a biblioteca completa, com todos os modulos\n",
        "from nome_da_biblioteca import nome_do_modulo #»» Importa apenas determinado modulo desejado\n",
        "'''\n",
        "Exemplo:\n",
        "import math\n",
        "from math import sqrt, ceil"
      ],
      "metadata": {
        "id": "qRkRints4odA"
      },
      "execution_count": null,
      "outputs": []
    },
    {
      "cell_type": "code",
      "source": [
        "#Exemplo: Importando toda a biblioteca\n",
        "import math\n",
        "num = int(input('Digite um número: '))\n",
        "raiz = math.sqrt (num) #Nesse caso, para utilizar uma a função, é necessário referenciar o \"nome_da_biblioteca.nome_função\"\n",
        "print(raiz) "
      ],
      "metadata": {
        "colab": {
          "base_uri": "https://localhost:8080/"
        },
        "id": "ExqO-3gY8GOu",
        "outputId": "8d0e069d-f015-4aa2-8c51-27e29d1345e8"
      },
      "execution_count": null,
      "outputs": [
        {
          "output_type": "stream",
          "name": "stdout",
          "text": [
            "Digite um número: 29\n",
            "6\n"
          ]
        }
      ]
    },
    {
      "cell_type": "code",
      "source": [
        "#Exemplo: Importanto apenas a função desejada\n",
        "from math import sqrt\n",
        "num = int(input('Digite um número: '))\n",
        "raiz = sqrt (num) #Nesse caso, para utilizar uma a função, não é necessário referenciar o nome_da_biblioteca, apenas a função\n",
        "print(raiz) "
      ],
      "metadata": {
        "colab": {
          "base_uri": "https://localhost:8080/"
        },
        "id": "aGgF57GG-QVD",
        "outputId": "a6bcefa1-a73d-4c35-f172-6401e20d3f26"
      },
      "execution_count": null,
      "outputs": [
        {
          "output_type": "stream",
          "name": "stdout",
          "text": [
            "Digite um número: 4\n",
            "2.0\n"
          ]
        }
      ]
    },
    {
      "cell_type": "code",
      "source": [
        "from random import randint\n",
        "num = randint(1, 10)\n",
        "print (num)"
      ],
      "metadata": {
        "colab": {
          "base_uri": "https://localhost:8080/"
        },
        "id": "SIEU0HgHAPNW",
        "outputId": "928e548b-0ebd-466e-b23f-1d856396acd8"
      },
      "execution_count": null,
      "outputs": [
        {
          "output_type": "stream",
          "name": "stdout",
          "text": [
            "4\n"
          ]
        }
      ]
    },
    {
      "cell_type": "code",
      "source": [
        "import random\n",
        "num = randint(1,10)\n",
        "num"
      ],
      "metadata": {
        "colab": {
          "base_uri": "https://localhost:8080/"
        },
        "id": "cGcuqEUFA7-a",
        "outputId": "7211e8c7-96a9-4c33-fd2e-361b542f4aec"
      },
      "execution_count": null,
      "outputs": [
        {
          "output_type": "execute_result",
          "data": {
            "text/plain": [
              "1"
            ]
          },
          "metadata": {},
          "execution_count": 40
        }
      ]
    },
    {
      "cell_type": "code",
      "source": [
        "#Exercício 16: Mostrando numero inteiro\n",
        "#import math\n",
        "num = float(input('Digite um número com vírgulas: '))\n",
        "print(math.trunc(num)) #Ignora os numero após a vírgula\n",
        "print(math.ceil(num)) #Arredonda SEMPRE para cima\n",
        "print(math.floor(num)) #Arredonda SEMPRE para baixo"
      ],
      "metadata": {
        "colab": {
          "base_uri": "https://localhost:8080/"
        },
        "id": "kSt8HclvBgm8",
        "outputId": "e45ab6dc-5b6f-4a55-c297-a32933839eae"
      },
      "execution_count": null,
      "outputs": [
        {
          "output_type": "stream",
          "name": "stdout",
          "text": [
            "Digite um número com vírgulas: 23.01\n",
            "23\n",
            "24\n",
            "23\n"
          ]
        }
      ]
    },
    {
      "cell_type": "code",
      "source": [
        "#Exercício 17: Calculando a hipotenusa de um triangulo retângulo\n",
        "cat_oposto = float(input('Digite o cumprimento do Cateto Oposto: '))\n",
        "cat_adja = float(input('Digite o cumprimento do Cateto Adjacente: '))\n",
        "hipotenusa = math.hypot (cat_adja, cat_oposto) #Calcula a hipotenusa\n",
        "print(hipotenusa)"
      ],
      "metadata": {
        "colab": {
          "base_uri": "https://localhost:8080/"
        },
        "id": "0dEax_yCDxDG",
        "outputId": "5f6c1839-757d-4738-842b-f0fc0675ccbc"
      },
      "execution_count": null,
      "outputs": [
        {
          "output_type": "stream",
          "name": "stdout",
          "text": [
            "Digite o cumprimento do Cateto Oposto: 42\n",
            "Digite o cumprimento do Cateto Adjacente: 54\n",
            "68.41052550594829\n"
          ]
        }
      ]
    },
    {
      "cell_type": "code",
      "source": [
        "#Exercício 18: Calculando Seno, Cosseno e Tangênte de um angulo\n",
        "ang = int(input('Digite o valor do angulo que pretende calcular: '))\n",
        "cos = math.cos(ang)\n",
        "sen = math.sin(ang)\n",
        "tan = math.tan(ang)\n",
        "print('Dado o angulo de {0}°, seus respectivos Seno, Cosseno e Tangênte são: \\n Seno = {1:.2f}, Cosseno = {2:.2f} e Tangênte = {3:.2f}' .format(ang,sen,cos,tan))"
      ],
      "metadata": {
        "colab": {
          "base_uri": "https://localhost:8080/"
        },
        "id": "R8uVRmqBH_6c",
        "outputId": "a574836a-bee4-4922-b9d2-a98482403b55"
      },
      "execution_count": null,
      "outputs": [
        {
          "output_type": "stream",
          "name": "stdout",
          "text": [
            "Digite o valor do angulo que pretende calcular: 45\n",
            "Dado o angulo de 45°, seus respectivos Seno, Cosseno e Tangênte são: \n",
            " Seno = 0.85, Cosseno = 0.53 e Tangênte = 1.62\n"
          ]
        }
      ]
    }
  ]
}